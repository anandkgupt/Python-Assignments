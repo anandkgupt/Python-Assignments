{
  "nbformat": 4,
  "nbformat_minor": 0,
  "metadata": {
    "colab": {
      "provenance": [],
      "authorship_tag": "ABX9TyMiN+1Xtnbmqh7WO4Ph2P8z",
      "include_colab_link": true
    },
    "kernelspec": {
      "name": "python3",
      "display_name": "Python 3"
    },
    "language_info": {
      "name": "python"
    }
  },
  "cells": [
    {
      "cell_type": "markdown",
      "metadata": {
        "id": "view-in-github",
        "colab_type": "text"
      },
      "source": [
        "<a href=\"https://colab.research.google.com/github/anandkgupt/Python-Assignments/blob/main/OOPS_Assignment.ipynb\" target=\"_parent\"><img src=\"https://colab.research.google.com/assets/colab-badge.svg\" alt=\"Open In Colab\"/></a>"
      ]
    },
    {
      "cell_type": "markdown",
      "source": [
        "Q1. What are the five key concepts of Object-Oriented Programming (OOP)?\n",
        "Ans: Five Key Concepts of Object-Oriented Programming (OOP):\n",
        "\n",
        "1] Encapsulation: Bundling of data and methods that operate on the data within a single unit (class) and restricting direct access to some components.\n",
        "\n",
        "2] Abstraction: Hiding the internal details and showing only the necessary functionality of an object.\n",
        "\n",
        "3] Inheritance: Mechanism to derive a new class from an existing class, promoting code reuse.\n",
        "\n",
        "4] Polymorphism: Ability to use the same interface for different underlying forms (e.g., methods with the same name but different implementations).\n",
        "\n",
        "5] Association: Describes relationships between objects, such as aggregation (weak relationship) and composition (strong relationship)."
      ],
      "metadata": {
        "id": "ge-mpWlsFnHx"
      }
    },
    {
      "cell_type": "markdown",
      "source": [
        "Q2. Write a Python class for a `Car` with attributes for `make`, `model`, and `year`. Include a method to display\n",
        "the car's information."
      ],
      "metadata": {
        "id": "DiJl86J_GhtP"
      }
    },
    {
      "cell_type": "code",
      "source": [
        "##class for a Car with attributes for make, model, and year\n",
        "class Car:\n",
        "    def __init__(self, make, model, year):\n",
        "        self.make = make\n",
        "        self.model = model\n",
        "        self.year = year\n",
        "\n",
        "    def display_info(self):\n",
        "        return f\"{self.year} {self.make} {self.model}\"\n",
        "\n",
        "# Example usage\n",
        "my_car = Car(\"Toyota\", \"Corolla\", 2023)\n",
        "print(my_car.display_info())\n",
        "\n"
      ],
      "metadata": {
        "colab": {
          "base_uri": "https://localhost:8080/"
        },
        "id": "liirh2lXFnmU",
        "outputId": "58452295-89ea-43e5-d384-27d121fe7fbd"
      },
      "execution_count": 4,
      "outputs": [
        {
          "output_type": "stream",
          "name": "stdout",
          "text": [
            "2023 Toyota Corolla\n"
          ]
        }
      ]
    },
    {
      "cell_type": "markdown",
      "source": [
        "Q3. Explain the difference between instance methods and class methods. Provide an example of each.\n",
        "\n",
        "Ans: Instance Methods vs. Class Methods:\n",
        "\n",
        "Instance Methods: Operate on specific instances of a class and have access to the instance's attributes.\n",
        "\n",
        "Class Methods: Operate on the class itself and have access to class-level attributes."
      ],
      "metadata": {
        "id": "4nj1I1SkIBcr"
      }
    },
    {
      "cell_type": "code",
      "source": [
        "#example of class and intance method\n",
        "class MyClass:\n",
        "    class_var = 10\n",
        "\n",
        "    def instance_method(self):\n",
        "        print(self.instance_var)  # Access instance attribute\n",
        "\n",
        "    @classmethod\n",
        "    def class_method(cls):\n",
        "        print(cls.class_var)  # Access class attribute\n"
      ],
      "metadata": {
        "id": "dtlNDG2SFnyt"
      },
      "execution_count": 6,
      "outputs": []
    },
    {
      "cell_type": "code",
      "source": [
        "mycls = MyClass()\n",
        "mycls.class_method()"
      ],
      "metadata": {
        "colab": {
          "base_uri": "https://localhost:8080/"
        },
        "id": "etOjlhIZICwj",
        "outputId": "dd277a01-7605-43ed-8ecf-913017d5b2d5"
      },
      "execution_count": 9,
      "outputs": [
        {
          "output_type": "stream",
          "name": "stdout",
          "text": [
            "10\n"
          ]
        }
      ]
    },
    {
      "cell_type": "markdown",
      "source": [
        "Q4. How does Python implement method overloading? Give an example.\n",
        "\n",
        "Ans: Python does not support method overloading in the traditional sense, where you can define multiple methods with the same name but different parameter lists. Instead, Python achieves the effect of method overloading by using:\n",
        "\n",
        "Default Arguments: Allowing a method to have optional parameters.\n",
        "\n",
        "Variable-Length Arguments (*args and **kwargs): Enabling methods to accept a variable number of arguments and handle them dynamically."
      ],
      "metadata": {
        "id": "RXtrFHJRJbfY"
      }
    },
    {
      "cell_type": "code",
      "source": [
        "#method overloading example\n",
        "class student:\n",
        "  def student(self):\n",
        "    print(\"welcome to pw class\")\n",
        "  def student(self, name = \"\"):\n",
        "    print(\"welcome to pw class\", name)\n",
        "  def student(self, name = \"\", course = \"\"):\n",
        "    print(\"welcome to pw class\", name, course)"
      ],
      "metadata": {
        "id": "6X2xVXMtICzQ"
      },
      "execution_count": 11,
      "outputs": []
    },
    {
      "cell_type": "code",
      "source": [
        "#using args\n",
        "class Calculator:\n",
        "    def add(self, *args):\n",
        "        return sum(args)\n",
        "\n",
        "# Usage\n",
        "calc = Calculator()\n",
        "print(calc.add(2, 3))           # Output: 5\n",
        "print(calc.add(1, 2, 3, 4, 5))  # Output: 15\n"
      ],
      "metadata": {
        "colab": {
          "base_uri": "https://localhost:8080/"
        },
        "id": "moRx05d7IC11",
        "outputId": "38c84f81-63aa-499a-f822-09eff230144f"
      },
      "execution_count": 12,
      "outputs": [
        {
          "output_type": "stream",
          "name": "stdout",
          "text": [
            "5\n",
            "15\n"
          ]
        }
      ]
    },
    {
      "cell_type": "markdown",
      "source": [
        "Q5. What are the three types of access modifiers in Python? How are they denoted?\n",
        "\n",
        "Ans:\n",
        "1] Public Access Modifier: Attributes and methods with public access can be accessed from anywhere: within the class, subclasses, and even outside the class.\n",
        "\n",
        "Denoted By: No special prefix (default visibility)\n",
        "\n",
        "2] Protected Access Modifier: Attributes and methods with protected access are accessible within the class and its subclasses, but not directly accessible from outside the class.\n",
        "\n",
        "Denoted By: A single underscore _ before the attribute or method name.\n",
        "\n",
        "3] Private Access Modifier: Attributes and methods with private access are only accessible within the class. They are not directly accessible outside the class or in subclasses.\n",
        "\n",
        "Denoted By: A double underscore __ before the attribute or method name."
      ],
      "metadata": {
        "id": "mQpWP7QKMa4I"
      }
    },
    {
      "cell_type": "markdown",
      "source": [
        "Q6. Describe the five types of inheritance in Python. Provide a simple example of multiple inheritance.\n",
        "\n",
        "Ans: Types of Inheritance in Python:\n",
        "\n",
        "1] Single Inheritance: One class inherits from another.\n",
        "\n",
        "2] Multiple Inheritance: A class inherits from multiple classes.\n",
        "\n",
        "3] Multilevel Inheritance: A chain of inheritance (e.g., A → B → C).\n",
        "\n",
        "4] Hierarchical Inheritance: Multiple classes inherit from one parent class.\n",
        "\n",
        "5] Hybrid Inheritance: A combination of different types of inheritance.\n"
      ],
      "metadata": {
        "id": "E1mSEyWXPBRL"
      }
    },
    {
      "cell_type": "code",
      "source": [
        "#example of Multiple Inheritance\n",
        "class Parent1:\n",
        "    def greet(self):\n",
        "        return \"Hello from Parent1\"\n",
        "\n",
        "class Parent2:\n",
        "    def welcome(self):\n",
        "        return \"Welcome from Parent2\"\n",
        "\n",
        "class Child(Parent1, Parent2):\n",
        "    pass\n",
        "\n",
        "child = Child()\n",
        "print(child.greet())\n",
        "print(child.welcome())\n"
      ],
      "metadata": {
        "colab": {
          "base_uri": "https://localhost:8080/"
        },
        "id": "TNqMSkm5IC4c",
        "outputId": "6670de67-d1e4-4ffe-c3d8-ba36b1111d3e"
      },
      "execution_count": 13,
      "outputs": [
        {
          "output_type": "stream",
          "name": "stdout",
          "text": [
            "Hello from Parent1\n",
            "Welcome from Parent2\n"
          ]
        }
      ]
    },
    {
      "cell_type": "markdown",
      "source": [
        "Q7. What is the Method Resolution Order (MRO) in Python? How can you retrieve it programmatically?\n",
        "\n",
        "Ans:  Method Resolution Order (MRO):\n",
        "MRO determines the order in which methods are inherited in the presence of multiple inheritance. Python uses the C3 Linearization Algorithm."
      ],
      "metadata": {
        "id": "kOL2IX_WP0t1"
      }
    },
    {
      "cell_type": "code",
      "source": [
        "#retrieve MRO programmatically\n",
        "class A: pass\n",
        "class B(A): pass\n",
        "class C(B): pass\n",
        "\n",
        "print(C.mro())\n"
      ],
      "metadata": {
        "colab": {
          "base_uri": "https://localhost:8080/"
        },
        "id": "tALm7MkwIC8A",
        "outputId": "cc16d342-48b8-495d-eaad-b035de590ba7"
      },
      "execution_count": 18,
      "outputs": [
        {
          "output_type": "stream",
          "name": "stdout",
          "text": [
            "[<class '__main__.C'>, <class '__main__.B'>, <class '__main__.A'>, <class 'object'>]\n"
          ]
        }
      ]
    },
    {
      "cell_type": "markdown",
      "source": [
        "Q8. Create an abstract base class `Shape` with an abstract method `area()`. Then create two subclasses\n",
        "`Circle` and `Rectangle` that implement the `area()` method."
      ],
      "metadata": {
        "id": "-MP98hobQUf5"
      }
    },
    {
      "cell_type": "code",
      "source": [
        "#abstract base class shape\n",
        "from abc import ABC, abstractmethod\n",
        "\n",
        "class Shape(ABC):\n",
        "    @abstractmethod\n",
        "    def area(self):\n",
        "        pass\n",
        "\n",
        "class Circle(Shape):\n",
        "    def __init__(self, radius):\n",
        "        self.radius = radius\n",
        "\n",
        "    def area(self):\n",
        "        return 3.14 * self.radius ** 2\n",
        "\n",
        "class Rectangle(Shape):\n",
        "    def __init__(self, length, width):\n",
        "        self.length = length\n",
        "        self.width = width\n",
        "\n",
        "    def area(self):\n",
        "        return self.length * self.width\n"
      ],
      "metadata": {
        "id": "boOgzH4vP42A"
      },
      "execution_count": 17,
      "outputs": []
    },
    {
      "cell_type": "markdown",
      "source": [
        "Q9. Demonstrate polymorphism by creating a function that can work with different shape objects to calculate\n",
        "and print their areas."
      ],
      "metadata": {
        "id": "DTrTk5dcRFSO"
      }
    },
    {
      "cell_type": "code",
      "source": [
        "from abc import ABC, abstractmethod\n",
        "\n",
        "class Shape(ABC):\n",
        "    @abstractmethod\n",
        "    def area(self):\n",
        "        pass\n",
        "\n",
        "class Circle(Shape):\n",
        "    def __init__(self, radius):\n",
        "        self.radius = radius\n",
        "\n",
        "    def area(self):\n",
        "        return 3.14159 * self.radius * self.radius\n",
        "\n",
        "class Rectangle(Shape):\n",
        "    def __init__(self, length, width):\n",
        "        self.length = length\n",
        "        self.width = width\n",
        "\n",
        "    def area(self):\n",
        "        return self.length * self.width\n",
        "\n",
        "def calculate_area(shape):\n",
        "    print(\"The area of the shape is:\", shape.area())\n",
        "\n",
        "# Create objects of different shapes\n",
        "circle = Circle(5)\n",
        "rectangle = Rectangle(4, 6)\n",
        "\n",
        "# Calculate and print the area of each shape\n",
        "calculate_area(circle)\n",
        "calculate_area(rectangle)"
      ],
      "metadata": {
        "colab": {
          "base_uri": "https://localhost:8080/"
        },
        "id": "W7qEATMTP45Q",
        "outputId": "b3288c98-7cf8-44f4-f21f-a8f4ebb366d1"
      },
      "execution_count": 19,
      "outputs": [
        {
          "output_type": "stream",
          "name": "stdout",
          "text": [
            "The area of the shape is: 78.53975\n",
            "The area of the shape is: 24\n"
          ]
        }
      ]
    },
    {
      "cell_type": "markdown",
      "source": [
        "Q10. Implement encapsulation in a `BankAccount` class with private attributes for `balance` and\n",
        "`account_number`. Include methods for deposit, withdrawal, and balance inquiry."
      ],
      "metadata": {
        "id": "P-8MNKU-SiyS"
      }
    },
    {
      "cell_type": "code",
      "source": [
        "class BankAccount:\n",
        "    def __init__(self, account_number, initial_balance):\n",
        "        self.__account_number = account_number\n",
        "        self.__balance = initial_balance\n",
        "\n",
        "    def deposit(self, amount):\n",
        "        if amount > 0:\n",
        "            self.__balance += amount\n",
        "            print(f\"Deposited {amount}. New balance: {self.__balance}\")\n",
        "        else:\n",
        "            print(\"Invalid deposit amount.\")\n",
        "\n",
        "    def withdraw(self, amount):\n",
        "        if 0 < amount <= self.__balance:\n",
        "            self.__balance -= amount\n",
        "            print(f\"Withdrew {amount}. New balance: {self.__balance}\")\n",
        "        elif amount > self.__balance:\n",
        "            print(\"Insufficient funds.\")\n",
        "        else:\n",
        "            print(\"Invalid withdrawal amount.\")\n",
        "\n",
        "    def check_balance(self):\n",
        "        print(f\"Your current balance is: {self.__balance}\")\n",
        "\n",
        "# Example usage:\n",
        "account = BankAccount(\"12345\", 1000)\n",
        "account.deposit(500)\n",
        "account.withdraw(200)\n",
        "account.check_balance()\n"
      ],
      "metadata": {
        "colab": {
          "base_uri": "https://localhost:8080/"
        },
        "id": "XG9EXSXwP475",
        "outputId": "0601d428-3b70-43f3-bf37-c460353e7c37"
      },
      "execution_count": 21,
      "outputs": [
        {
          "output_type": "stream",
          "name": "stdout",
          "text": [
            "Deposited 500. New balance: 1500\n",
            "Withdrew 200. New balance: 1300\n",
            "Your current balance is: 1300\n"
          ]
        }
      ]
    },
    {
      "cell_type": "markdown",
      "source": [
        "Q11. Write a class that overrides the `__str__` and `__add__` magic methods. What will these methods allow\n",
        "you to do?\n",
        "\n",
        "Ans: __str__ method:\n",
        "\n",
        "This method is called when you try to convert an object to a string representation.\n",
        "\n",
        "__add__ method:\n",
        "\n",
        "This method is called when you use the + operator on two objects of the same type."
      ],
      "metadata": {
        "id": "FjdAbnIyTWVa"
      }
    },
    {
      "cell_type": "code",
      "source": [
        "class Person:\n",
        "    def __init__(self, name, age):\n",
        "        self.name = name\n",
        "        self.age = age\n",
        "\n",
        "    def __str__(self):\n",
        "        return f\"Person: {self.name}, Age: {self.age}\"\n",
        "\n",
        "    def __add__(self, other):\n",
        "        return Person(self.name + \" and \" + other.name, self.age + other.age)\n",
        "\n",
        "# Create two person objects\n",
        "person1 = Person(\"Anand\", 25)\n",
        "person2 = Person(\"Niraj\", 24)\n",
        "\n",
        "# Print the person objects\n",
        "print(person1)\n",
        "print(person2)\n",
        "\n",
        "# Add the two people\n",
        "combined_person = person1 + person2\n",
        "print(combined_person)"
      ],
      "metadata": {
        "colab": {
          "base_uri": "https://localhost:8080/"
        },
        "id": "QPcHXUDTP4-q",
        "outputId": "8a295678-8a34-4e52-df13-0b96908dad2f"
      },
      "execution_count": 25,
      "outputs": [
        {
          "output_type": "stream",
          "name": "stdout",
          "text": [
            "Person: Anand, Age: 25\n",
            "Person: Niraj, Age: 24\n",
            "Person: Anand and Niraj, Age: 49\n"
          ]
        }
      ]
    },
    {
      "cell_type": "markdown",
      "source": [
        "Q12. Create a decorator that measures and prints the execution time of a function."
      ],
      "metadata": {
        "id": "4kXLNUMPU9Uv"
      }
    },
    {
      "cell_type": "code",
      "source": [
        "import time\n",
        "\n",
        "def measure_time(func):\n",
        "    def wrapper(*args, **kwargs):\n",
        "        start_time = time.time()\n",
        "        result = func(*args, **kwargs)\n",
        "        end_time = time.time()\n",
        "        print(f\"Execution time of {func.__name__}: {end_time - start_time:.4f} seconds\")\n",
        "        return result\n",
        "    return wrapper\n",
        "\n",
        "@measure_time\n",
        "def my_function():\n",
        "    # Some time-consuming operation here\n",
        "    time.sleep(2)\n",
        "    print(\"Function executed\")\n",
        "\n",
        "my_function()"
      ],
      "metadata": {
        "colab": {
          "base_uri": "https://localhost:8080/"
        },
        "id": "B15e4RzHP5Bl",
        "outputId": "11dcb4ae-2453-40b7-96a8-609619cff55d"
      },
      "execution_count": 26,
      "outputs": [
        {
          "output_type": "stream",
          "name": "stdout",
          "text": [
            "Function executed\n",
            "Execution time of my_function: 2.0024 seconds\n"
          ]
        }
      ]
    },
    {
      "cell_type": "markdown",
      "source": [
        "Q13. Explain the concept of the Diamond Problem in multiple inheritance. How does Python resolve it?\n",
        "\n",
        "Ans: Diamond Problem in Multiple Inheritance:\n",
        "\n",
        "The Diamond Problem arises in multiple inheritance when a class inherits from two or more superclasses that share a common ancestor. This can lead to ambiguity if both superclasses define a method with the same name.\n",
        "\n",
        "Python's Resolution: Method Resolution Order (MRO):\n",
        "\n",
        "Python uses a specific algorithm called the Method Resolution Order (MRO) to determine the order in which methods are searched for. The MRO is a linearization of the class hierarchy that ensures that each class is inherited only once."
      ],
      "metadata": {
        "id": "4z6eSVE_VdFc"
      }
    },
    {
      "cell_type": "code",
      "source": [
        "#example\n",
        "class A:\n",
        "    def method(self):\n",
        "        print(\"A's method\")\n",
        "\n",
        "class B(A):\n",
        "    pass\n",
        "\n",
        "class C(A):\n",
        "    pass\n",
        "\n",
        "class D(B, C):\n",
        "    pass\n",
        "#In this example, class D inherits from both B and C, which both inherit from A.\n",
        "#If D tries to call the method() method, Python encounters the Diamond Problem:\n",
        "#which version of method() should it call, the one from B or the one from C?"
      ],
      "metadata": {
        "id": "VJyo7iAqP5E_"
      },
      "execution_count": 27,
      "outputs": []
    },
    {
      "cell_type": "markdown",
      "source": [
        "Q14. Write a class method that keeps track of the number of instances created from a class."
      ],
      "metadata": {
        "id": "J7sF16jCW43k"
      }
    },
    {
      "cell_type": "code",
      "source": [
        "class MyClass:\n",
        "    count = 0\n",
        "\n",
        "    def __init__(self):\n",
        "        MyClass.count += 1\n",
        "\n",
        "    @classmethod\n",
        "    def get_instance_count(cls):\n",
        "        return cls.count"
      ],
      "metadata": {
        "id": "BsFoFB90V-8d"
      },
      "execution_count": 28,
      "outputs": []
    },
    {
      "cell_type": "code",
      "source": [
        "obj1 = MyClass()\n",
        "obj2 = MyClass()\n",
        "obj3 = MyClass()\n",
        "\n",
        "print(MyClass.get_instance_count())"
      ],
      "metadata": {
        "colab": {
          "base_uri": "https://localhost:8080/"
        },
        "id": "f2OF5suDXHMc",
        "outputId": "2ab5113e-0fb0-4103-a961-a8068aabf792"
      },
      "execution_count": 36,
      "outputs": [
        {
          "output_type": "stream",
          "name": "stdout",
          "text": [
            "24\n"
          ]
        }
      ]
    },
    {
      "cell_type": "markdown",
      "source": [
        "Q15. Implement a static method in a class that checks if a given year is a leap year."
      ],
      "metadata": {
        "id": "U1uNle-3Xu2l"
      }
    },
    {
      "cell_type": "code",
      "source": [
        "class YearChecker:\n",
        "    @staticmethod\n",
        "    def is_leap_year(year):\n",
        "        return (year % 4 == 0 and year % 100 != 0) or year % 400 == 0\n",
        "\n",
        "# Example usage:\n",
        "year = 2024\n",
        "if YearChecker.is_leap_year(year):\n",
        "    print(f\"{year} is a leap year\")\n",
        "else:\n",
        "    print(f\"{year} is not a leap year\")"
      ],
      "metadata": {
        "colab": {
          "base_uri": "https://localhost:8080/"
        },
        "id": "rqCJpSaNXKz3",
        "outputId": "0813d5f2-9ced-4d7c-c30c-905abeb3269c"
      },
      "execution_count": 37,
      "outputs": [
        {
          "output_type": "stream",
          "name": "stdout",
          "text": [
            "2024 is a leap year\n"
          ]
        }
      ]
    },
    {
      "cell_type": "code",
      "source": [],
      "metadata": {
        "id": "jjrBEBUZYBOM"
      },
      "execution_count": null,
      "outputs": []
    }
  ]
}