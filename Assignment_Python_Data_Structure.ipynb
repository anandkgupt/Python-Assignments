{
  "nbformat": 4,
  "nbformat_minor": 0,
  "metadata": {
    "colab": {
      "provenance": [],
      "authorship_tag": "ABX9TyO5iA3e01cmcLmvn7RKH0lB",
      "include_colab_link": true
    },
    "kernelspec": {
      "name": "python3",
      "display_name": "Python 3"
    },
    "language_info": {
      "name": "python"
    }
  },
  "cells": [
    {
      "cell_type": "markdown",
      "metadata": {
        "id": "view-in-github",
        "colab_type": "text"
      },
      "source": [
        "<a href=\"https://colab.research.google.com/github/anandkgupt/Python-Assignments/blob/main/Assignment_Python_Data_Structure.ipynb\" target=\"_parent\"><img src=\"https://colab.research.google.com/assets/colab-badge.svg\" alt=\"Open In Colab\"/></a>"
      ]
    },
    {
      "cell_type": "markdown",
      "source": [
        "Name- Anand Kr Gupta\n",
        "Email id- anandkg000@gmail.com\n",
        "Phone N- 9026477478\n",
        "Batch- 14 OCT"
      ],
      "metadata": {
        "id": "ukvL6s1Y6yym"
      }
    },
    {
      "cell_type": "markdown",
      "source": [
        "1.String Slicing in Python\n",
        "String slicing allows you to extract a portion of a string using a specific range of indices. The syntax is string[start:end:step], where:\n",
        "\n",
        "start: Index to begin slicing (inclusive).\n",
        "end: Index to stop slicing (exclusive).\n",
        "step: Interval of slicing."
      ],
      "metadata": {
        "id": "FngOTUat2WHo"
      }
    },
    {
      "cell_type": "code",
      "execution_count": 1,
      "metadata": {
        "colab": {
          "base_uri": "https://localhost:8080/",
          "height": 0
        },
        "id": "6tkeyVz812Ss",
        "outputId": "14b23cf6-a8b7-44fe-a88f-3b15cf5f62ba"
      },
      "outputs": [
        {
          "output_type": "stream",
          "name": "stdout",
          "text": [
            "Hello\n",
            "World\n",
            "Hlo ol!\n"
          ]
        }
      ],
      "source": [
        "text = \"Hello, World!\"\n",
        "print(text[0:5])      # 'Hello'\n",
        "print(text[7:12])     # 'World'\n",
        "print(text[::2])      # 'Hlo ol!'\n"
      ]
    },
    {
      "cell_type": "markdown",
      "source": [
        "2.Key Features of Lists in Python\n",
        "Lists are mutable, ordered sequences of elements. They are flexible and can store different data types.\n",
        "\n",
        "Ordered: Maintains the insertion order.\n",
        "Mutable: Elements can be changed after the list is created.\n",
        "Indexable: Supports indexing and slicing.\n",
        "Dynamic Size: Can grow or shrink as needed."
      ],
      "metadata": {
        "id": "jFm_Que2280O"
      }
    },
    {
      "cell_type": "code",
      "source": [
        "my_list = [1, 'apple', 3.14]\n",
        "print(my_list)\n"
      ],
      "metadata": {
        "colab": {
          "base_uri": "https://localhost:8080/",
          "height": 0
        },
        "id": "F6fCb5SG3DuG",
        "outputId": "342f2f0b-ef93-4928-e15a-67e45ac18d4f"
      },
      "execution_count": 2,
      "outputs": [
        {
          "output_type": "stream",
          "name": "stdout",
          "text": [
            "[1, 'apple', 3.14]\n"
          ]
        }
      ]
    },
    {
      "cell_type": "markdown",
      "source": [
        "3.Accessing, Modifying, and Deleting Elements in a List\n",
        "Access: Use indices to access list elements.\n",
        "Modify: Assign a new value using the index.\n",
        "Delete: Use del, remove(), or pop()."
      ],
      "metadata": {
        "id": "VeC1OHcq3gV_"
      }
    },
    {
      "cell_type": "code",
      "source": [
        "my_list = [10, 20, 30, 40]\n",
        "print(my_list[1])      # Access: 20\n",
        "my_list[1] = 25        # Modify\n",
        "print(my_list)         # [10, 25, 30, 40]\n",
        "del my_list[2]         # Delete by index\n",
        "print(my_list)         # [10, 25, 40]\n"
      ],
      "metadata": {
        "colab": {
          "base_uri": "https://localhost:8080/",
          "height": 0
        },
        "id": "HZJ2Qrn03ocV",
        "outputId": "0bdace9e-2b1d-4334-a07e-291edd4c8a31"
      },
      "execution_count": 3,
      "outputs": [
        {
          "output_type": "stream",
          "name": "stdout",
          "text": [
            "20\n",
            "[10, 25, 30, 40]\n",
            "[10, 25, 40]\n"
          ]
        }
      ]
    },
    {
      "cell_type": "markdown",
      "source": [
        "4.Tuples: Immutable, ordered, ideal for fixed data.\n",
        "Lists: Mutable, ordered, flexible for dynamic data."
      ],
      "metadata": {
        "id": "SbT_PmkW4l4R"
      }
    },
    {
      "cell_type": "code",
      "source": [
        "my_tuple = (1, 2, 3)   # Tuple (Immutable)\n",
        "my_list = [1, 2, 3]    # List (Mutable)\n",
        "\n",
        "# Attempting modification\n",
        "my_list[0] = 4         # Works, list is mutable\n",
        "# my_tuple[0] = 4      # Raises an error, tuple is immutable\n"
      ],
      "metadata": {
        "id": "6rCvXVaG4saN"
      },
      "execution_count": 4,
      "outputs": []
    },
    {
      "cell_type": "markdown",
      "source": [
        "5.Key Features of Sets in Python\n",
        "Sets are unordered collections of unique items, making them useful for removing duplicates or performing mathematical operations like unions and intersections.\n",
        "\n",
        "Unordered: Does not maintain order.\n",
        "No Duplicates: Automatically removes duplicates.\n",
        "Mutable: Can add or remove items."
      ],
      "metadata": {
        "id": "yz9rZv2D5Cwj"
      }
    },
    {
      "cell_type": "code",
      "source": [
        "my_set = {1, 2, 2, 3}\n",
        "print(my_set)          # {1, 2, 3} - duplicates removed\n",
        "my_set.add(4)          # Adding an element\n",
        "print(my_set)          # {1, 2, 3, 4}\n"
      ],
      "metadata": {
        "colab": {
          "base_uri": "https://localhost:8080/",
          "height": 0
        },
        "id": "J2Ohcys95KWZ",
        "outputId": "3aa86eb4-da79-42c2-cb1b-dd0eeb90ca1f"
      },
      "execution_count": 5,
      "outputs": [
        {
          "output_type": "stream",
          "name": "stdout",
          "text": [
            "{1, 2, 3}\n",
            "{1, 2, 3, 4}\n"
          ]
        }
      ]
    },
    {
      "cell_type": "markdown",
      "source": [
        "6.Tuples: Best for storing fixed data (e.g., coordinates, days of the week).\n",
        "Sets: Ideal for removing duplicates and performing set operations."
      ],
      "metadata": {
        "id": "_mNV_dPx5Thj"
      }
    },
    {
      "cell_type": "code",
      "source": [
        "coordinates = (10.5, 20.6)     # Tuple for fixed values\n",
        "unique_values = set([1, 2, 2, 3])  # Set to remove duplicates\n"
      ],
      "metadata": {
        "id": "Rfj7cTtI5YF1"
      },
      "execution_count": 7,
      "outputs": []
    },
    {
      "cell_type": "markdown",
      "source": [
        "7.Adding, Modifying, and Deleting Items in a Dictionary\n",
        "Add: Assign a value to a new key.\n",
        "Modify: Update the value for an existing key.\n",
        "Delete: Use del, pop(), or clear()."
      ],
      "metadata": {
        "id": "4jKKW1ae5dHT"
      }
    },
    {
      "cell_type": "code",
      "source": [
        "my_dict = {'name': 'Alice', 'age': 25}\n",
        "my_dict['age'] = 26          # Modify\n",
        "my_dict['city'] = 'Paris'    # Add\n",
        "del my_dict['name']          # Delete\n",
        "print(my_dict)               # {'age': 26, 'city': 'Paris'}\n"
      ],
      "metadata": {
        "colab": {
          "base_uri": "https://localhost:8080/",
          "height": 0
        },
        "id": "9wtr-8HC5hcm",
        "outputId": "aec65c32-ca3c-453a-9d98-fe85b0de1611"
      },
      "execution_count": 8,
      "outputs": [
        {
          "output_type": "stream",
          "name": "stdout",
          "text": [
            "{'age': 26, 'city': 'Paris'}\n"
          ]
        }
      ]
    },
    {
      "cell_type": "markdown",
      "source": [
        "8.Importance of Immutable Dictionary Keys\n",
        "Dictionary keys must be immutable to maintain hash consistency, ensuring the data structure's reliability. If mutable objects (e.g., lists) were allowed as keys, modifying them could disrupt data retrieval."
      ],
      "metadata": {
        "id": "opiJbSTA5nCL"
      }
    },
    {
      "cell_type": "code",
      "source": [
        "# Invalid: Lists as keys\n",
        "# my_dict = {[1, 2, 3]: \"value\"}   # Raises TypeError\n",
        "\n",
        "# Valid: Tuples (immutable) as keys\n",
        "my_dict = {(1, 2, 3): \"value\"}\n"
      ],
      "metadata": {
        "id": "V6YVDxcI5q7Y"
      },
      "execution_count": 9,
      "outputs": []
    }
  ]
}